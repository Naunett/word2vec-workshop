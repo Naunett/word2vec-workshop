{
 "cells": [
  {
   "cell_type": "markdown",
   "metadata": {},
   "source": [
    "----\n",
    "word2vec\n",
    "===\n",
    "\n",
    "<img src=\"images/book.png\" style=\"width: 400px;\"/>"
   ]
  },
  {
   "cell_type": "markdown",
   "metadata": {},
   "source": [
    "---\n",
    "Challenge question\n",
    "---\n",
    "\n",
    "<details><summary>\n",
    "Do computers prefer numbers or strings?\n",
    "</summary>\n",
    "Numbers. word2vec is currently the best way to convert strings to numbers.\n",
    "</details>"
   ]
  },
  {
   "cell_type": "markdown",
   "metadata": {},
   "source": [
    "---\n",
    "By The End Of This Session You Should Be Able To:\n",
    "---\n",
    "\n",
    "- Explain why word2vec is powerful and popular\n",
    "- Describe how word2vec is a neural network\n",
    "- Indentify the common architectures of word2vec\n",
    "- Apply word2vec to dataset"
   ]
  },
  {
   "cell_type": "code",
   "execution_count": 3,
   "metadata": {
    "collapsed": false
   },
   "outputs": [],
   "source": [
    "import seaborn as sns\n",
    "import matplotlib.pyplot as plt\n",
    "import numpy as np\n",
    "\n",
    "%matplotlib inline"
   ]
  },
  {
   "cell_type": "markdown",
   "metadata": {},
   "source": [
    "---\n",
    "Story time...\n",
    "---"
   ]
  },
  {
   "cell_type": "code",
   "execution_count": 1,
   "metadata": {
    "collapsed": true
   },
   "outputs": [],
   "source": [
    "corpus = \"\"\"The man and woman meet each other ...\n",
    "         They become king and queen ...\n",
    "         They got old and stop talking to each other. Instead, they read books and magazines ...\n",
    "         \"\"\""
   ]
  },
  {
   "cell_type": "code",
   "execution_count": 5,
   "metadata": {
    "collapsed": false
   },
   "outputs": [
    {
     "data": {
      "image/png": "[encoded data removed]",
      "text/plain": [
       "<matplotlib.figure.Figure at 0x1150a0668>"
      ]
     },
     "metadata": {},
     "output_type": "display_data"
    }
   ],
   "source": [
    "# Let's hand assign the words to vectors\n",
    "words = ['queen', 'book', 'king', 'magazine', 'woman', 'man']\n",
    "\n",
    "vectors = np.array([[0.1,   0.3],  # queen\n",
    "                    [-0.5, -0.1],  # book\n",
    "                    [0.2,   0.2],  # king\n",
    "                    [-0.3, -0.2],  # magazine\n",
    "                    [-0.5,  0.4],  # car\n",
    "                    [-0.45, 0.3]]) # bike\n",
    "\n",
    "plt.plot(vectors[:,0], vectors[:,1], 'o')\n",
    "plt.xlim(-0.6, 0.3)\n",
    "plt.ylim(-0.3, 0.5)\n",
    "for word, x, y in zip(words, vectors[:,0], vectors[:,1]):\n",
    "    plt.annotate(word, (x, y), size=12)"
   ]
  },
  {
   "cell_type": "markdown",
   "metadata": {},
   "source": [
    "---\n",
    "Check for understanding\n",
    "---\n",
    "\n",
    "<details><summary>\n",
    "How many dimensions are data represented in? How many dimensions would we need to represent for typical word vectors?\n",
    "</summary>\n",
    "There are 2 dimensions. Typicall word vectors would need 5 (n-1). You would could a baseline words as all zeros.\n",
    "</details>"
   ]
  },
  {
   "cell_type": "markdown",
   "metadata": {},
   "source": [
    "----\n",
    "word2vec creates dense representations\n",
    "----\n",
    "\n",
    "![](images/dense_repsentations.png)"
   ]
  },
  {
   "cell_type": "markdown",
   "metadata": {},
   "source": [
    "---\n",
    "Distributional Hypothesis\n",
    "---\n",
    "\n",
    "\n",
    "![](https://upload.wikimedia.org/wikipedia/commons/thumb/c/c3/John_Rupert_Firth.png/220px-John_Rupert_Firth.png)\n",
    "\n",
    ">“You shall know a word\n",
    ">by the company it keeps”\n",
    "\n",
    "> \\- J. R. Firth 1957"
   ]
  },
  {
   "cell_type": "markdown",
   "metadata": {},
   "source": [
    "---\n",
    "Example\n",
    "---\n",
    "\n",
    "> ... government debt problems are turning into __banking__ crises...  \n",
    "\n",
    "> ... Europe governments needs unified __banking__ regulation to replace the hodgepodge of debt regulations...\n",
    "\n",
    "These words (e.g., government, regulation) will represent __banking__"
   ]
  },
  {
   "cell_type": "markdown",
   "metadata": {},
   "source": [
    "----\n",
    "How does word2vec model the Distributional Hypothesis?\n",
    "---\n",
    "\n",
    "Input = text corpus  \n",
    "Output = vector for each word\n",
    "\n",
    "Word2Vec is a very simple neural network with a single hidden layer. \n",
    "![](images/w2v_neural_net.png)\n",
    "\n",
    "Note: The bow-tie shape. That is is an __autoencoder__. Autoencoders compress sparse representations into dense representation. The neural network learns the mapping that best preserves the structure of the orginal space."
   ]
  },
  {
   "cell_type": "markdown",
   "metadata": {},
   "source": [
    "---\n",
    "Neural Net Sidebar\n",
    "----\n",
    "\n",
    "![](https://askabiologist.asu.edu/sites/default/files/resources/articles/neuron_anatomy.jpg)\n",
    "\n",
    "### By The End of This Sidebar You should be able to:\n",
    "1. Identify the components of a neural net.\n",
    "2. Explain how neural represent data.\n",
    "3. Understand how backprogragation algorithm enables the updates of wieghts."
   ]
  },
  {
   "cell_type": "markdown",
   "metadata": {},
   "source": [
    "## Demystifying neural networks\n",
    "  \n",
    "![](images/single_neuron.png)  \n",
    "\n",
    "Neural nets take many inputs, aggregate the singals, and produces an output."
   ]
  },
  {
   "cell_type": "markdown",
   "metadata": {},
   "source": [
    "[See Appendix of _word2vec Parameter Learning Explained_ for complete review of neural nets](http://arxiv.org/abs/1411.2738)\n",
    "\n",
    "![](images/neuron_math.png)\n",
    "\n",
    "y = f(u)\n",
    "\n",
    "where u is a scalar number, which is the net input (or “new input”) of the neuron. u is\n",
    "defined as\n",
    "\n",
    "![](images/input.png)\n",
    "x is a vector of inputs  \n",
    "w is a vector of weights  \n",
    "\n",
    "**Note:** Ingoring bias term, add an input add an input dimension (e.g., x0) that is constant 1.\n",
    "u = b + sum(x *w)\n",
    "where b is basis"
   ]
  },
  {
   "cell_type": "markdown",
   "metadata": {},
   "source": [
    "---\n",
    "Logistic function\n",
    "----\n",
    "\n",
    "f(u) where f is activation function/decision/transfer function.  \n",
    "f(u) is the logistic function, – the most common sigmoid non-linearity. (it should look famailar)\n",
    "\n",
    "![](images/logistic_function.png)\n",
    "\n",
    "![](images/logistic_function_graph.png)\n",
    "\n",
    "Neural Nets are like logistic regression.\n",
    "\n",
    "Good properties:\n",
    "- the output y is always between 0 and 1, \n",
    "- σ(u) is smooth and differentiable, making the derivation of update equation very easy.\n",
    "\n",
    "\n"
   ]
  },
  {
   "cell_type": "markdown",
   "metadata": {},
   "source": [
    "---\n",
    "Updating the weights\n",
    "----\n",
    "\n",
    "![](images/basic_neural_net.png)\n",
    "\n",
    "1. Intial random weights.  \n",
    "2. Calculate loss function.  \n",
    "3. Update weights via back propgation."
   ]
  },
  {
   "cell_type": "markdown",
   "metadata": {},
   "source": [
    "---\n",
    "Check for understanding\n",
    "---\n",
    "\n",
    "<details><summary>\n",
    "What is a loss function? Give a couple of examples.\n",
    "</summary>\n",
    "A lost function is how you weigh your errors.\n",
    "\n",
    "For example, sum of squared residuals heavily penalizes large misses. While hinge loss ignores some errors all together.\n",
    "</details>"
   ]
  },
  {
   "cell_type": "markdown",
   "metadata": {},
   "source": [
    "----\n",
    "Gradient descent: The secret sauce of neural networks\n",
    "---\n",
    "\n",
    "Define the error function, i.e., the training objective.\n",
    "\n",
    "Objective function:\n",
    "![](images/objective_function.png)\n",
    "\n",
    "\n",
    "Apply gradient descent:\n",
    "![](images/stochastic_gradient_descent.png)\n",
    "\n",
    "NOTE: This is technically stochastic gradient descent. It is a minor variation that is much more pratical and used more often in pratice."
   ]
  },
  {
   "cell_type": "markdown",
   "metadata": {
    "collapsed": false
   },
   "source": [
    "---\n",
    "How does this look during training?\n",
    "---\n",
    "\n"
   ]
  },
  {
   "cell_type": "code",
   "execution_count": 4,
   "metadata": {
    "collapsed": false
   },
   "outputs": [
    {
     "data": {
      "text/html": [
       "\n",
       "        <iframe\n",
       "            width=\"400\"\n",
       "            height=\"300\"\n",
       "            src=\"https://player.vimeo.com/video/112168934\"\n",
       "            frameborder=\"0\"\n",
       "            allowfullscreen\n",
       "        ></iframe>\n",
       "        "
      ],
      "text/plain": [
       "<IPython.lib.display.VimeoVideo at 0x1043ad198>"
      ]
     },
     "metadata": {},
     "output_type": "display_data"
    }
   ],
   "source": [
    "from IPython.display import display, VimeoVideo\n",
    "\n",
    "display(VimeoVideo(112168934))"
   ]
  },
  {
   "cell_type": "markdown",
   "metadata": {},
   "source": [
    "---\n",
    "The 2 architectures of word2vec\n",
    "----\n",
    "\n",
    "1. “Continuous bag of words”: Predict a missing word in a sentence based on the surrounding context\n",
    "\n",
    "2. “Skip-gram”: Each current word as an input to a log-linear classifier to predict words within a certain range before and after that current word"
   ]
  },
  {
   "cell_type": "markdown",
   "metadata": {},
   "source": [
    "## Continuous bag of words (CBOW) architecture\n",
    "\n",
    "<img src=\"images/cbow.png\" style=\"width: 400px;\"/>\n",
    "Given the context (surronding words), predict the current word.\n",
    "\n",
    "[Detailed explanation](http://alexminnaar.com/word2vec-tutorial-part-ii-the-continuous-bag-of-words-model.html)"
   ]
  },
  {
   "cell_type": "markdown",
   "metadata": {},
   "source": [
    "\n",
    "\n",
    "## Skip-gram architecture (the inverse of CBOW)\n",
    "\n",
    "<img src=\"images/skip-gram.png\" style=\"width: 400px;\"/>\n",
    "Given the current word, predict the context (surrounding words)."
   ]
  },
  {
   "cell_type": "markdown",
   "metadata": {},
   "source": [
    "---\n",
    "Defining skip-grams\n",
    "---\n",
    "\n",
    "![](images/skip-gram-equation.png)\n",
    "\n",
    "k-skip-n-grams for a sentence w1... wm to be the set\n",
    "\n",
    "Skip-grams reported for a certain skip distance k allow a total of k or less skips to construct the n-gram. As such, “4-skip-n-gram” results include 4 skips, 3 skips, 2 skips, 1 skip, and 0 skips (typical n-grams formed from adjacent words)."
   ]
  },
  {
   "cell_type": "markdown",
   "metadata": {},
   "source": [
    "---\n",
    "Skip-gram example\n",
    "---\n",
    "\n",
    "Here is an actual sentence example showing 2-skip-bi-grams and tri-grams compared to standard bi-grams and trigrams consisting of adjacent words for the sentence:\n",
    "\n",
    ">“Insurgents killed in ongoing fighting.”\n",
    "\n",
    "Bi-grams = {insurgents killed, killed in, in ongoing, ongoing fighting}.  \n",
    "\n",
    "2-skip-bi-grams = {insurgents killed, insurgents in, insurgents ongoing, killed in, killed ongoing, killed fighting, in ongoing, in fighting, ongoing fighting}.  \n",
    "\n",
    "Tri-grams = {insurgents killed in, killed in ongoing, in ongoing fighting}.  \n",
    "\n",
    "2-skip-tri-grams = {insurgents killed in, insurgents killed ongoing, insurgents killed fighting, insurgents in ongoing, insurgents in fighting, insurgents ongoing fighting, killed in ongoing, killed in fighting, killed ongoing fighting, in ongoing fighting}. \n"
   ]
  },
  {
   "cell_type": "markdown",
   "metadata": {},
   "source": [
    "## Skip-Gram architecture, deep dive\n",
    "\n",
    "![](images/skip_gram_detailed.png)\n",
    "\n",
    "The target word is now at the input layer, and the context words are on the output layer.\n",
    "\n",
    "On the output layer, instead of outputing one multinomial distribution, we are outputing C multinomial distributions. Each output is computed using the same hidden to output matrix\n",
    "\n",
    "Objective function:\n",
    "![](images/multinomial_distributions.png)\n",
    "\n",
    "Because the output layer panels share the same weights,\n",
    "\n",
    "Loss function:\n",
    "![](images/skip_gram_loss.png)"
   ]
  },
  {
   "cell_type": "markdown",
   "metadata": {},
   "source": [
    "## CBOW vs. Skip-gram\n",
    "CBOW is several times faster to train than the skip-gram and has slightly better accuracy for the frequent words.  \n",
    "\n",
    "Skip-gram works well with small amount of the training data and well represents rare words.\n",
    "\n",
    "Skip-gram tends to be the most commmon architecture."
   ]
  },
  {
   "cell_type": "markdown",
   "metadata": {},
   "source": [
    "----\n",
    "Now that we have word vectors, what can we do? Math with words!\n",
    "----"
   ]
  },
  {
   "cell_type": "markdown",
   "metadata": {},
   "source": [
    "---\n",
    "Distance\n",
    "---\n",
    "\n",
    "![](http://blog.krecan.net/wp-content/family.png)\n",
    "\n",
    "The word vectors are directions in space and can encode relationships between words.  \n",
    "\n",
    "The proximity of words to each other can be calculated through their cosine similarity."
   ]
  },
  {
   "cell_type": "markdown",
   "metadata": {},
   "source": [
    "![cosine_sim](https://upload.wikimedia.org/math/f/3/6/f369863aa2814d6e283f859986a1574d.png)\n",
    "\n",
    "1 meaning exactly the same  \n",
    "0 indicating orthogonality (decorrelation)  \n",
    "−1 meaning exactly opposite  "
   ]
  },
  {
   "cell_type": "code",
   "execution_count": 7,
   "metadata": {
    "collapsed": false
   },
   "outputs": [
    {
     "ename": "AssertionError",
     "evalue": "",
     "output_type": "error",
     "traceback": [
      "\u001b[0;31m---------------------------------------------------------------------------\u001b[0m",
      "\u001b[0;31mAssertionError\u001b[0m                            Traceback (most recent call last)",
      "\u001b[0;32m<ipython-input-7-d2f3e943e401>\u001b[0m in \u001b[0;36m<module>\u001b[0;34m()\u001b[0m\n\u001b[1;32m     20\u001b[0m     \u001b[0;32mreturn\u001b[0m \u001b[0;34m\"tests pass :)\"\u001b[0m\u001b[0;34m\u001b[0m\u001b[0m\n\u001b[1;32m     21\u001b[0m \u001b[0;34m\u001b[0m\u001b[0m\n\u001b[0;32m---> 22\u001b[0;31m \u001b[0mprint\u001b[0m\u001b[0;34m(\u001b[0m\u001b[0mtest_cos_sim\u001b[0m\u001b[0;34m(\u001b[0m\u001b[0;34m)\u001b[0m\u001b[0;34m)\u001b[0m\u001b[0;34m\u001b[0m\u001b[0m\n\u001b[0m",
      "\u001b[0;32m<ipython-input-7-d2f3e943e401>\u001b[0m in \u001b[0;36mtest_cos_sim\u001b[0;34m()\u001b[0m\n\u001b[1;32m     14\u001b[0m     \u001b[0mv5\u001b[0m \u001b[0;34m=\u001b[0m \u001b[0mnp\u001b[0m\u001b[0;34m.\u001b[0m\u001b[0marray\u001b[0m\u001b[0;34m(\u001b[0m\u001b[0;34m[\u001b[0m\u001b[0;36m3\u001b[0m\u001b[0;34m,\u001b[0m \u001b[0;36m45\u001b[0m\u001b[0;34m,\u001b[0m \u001b[0;36m7\u001b[0m\u001b[0;34m,\u001b[0m \u001b[0;36m2\u001b[0m\u001b[0;34m]\u001b[0m\u001b[0;34m)\u001b[0m\u001b[0;34m\u001b[0m\u001b[0m\n\u001b[1;32m     15\u001b[0m     \u001b[0mv6\u001b[0m \u001b[0;34m=\u001b[0m \u001b[0mnp\u001b[0m\u001b[0;34m.\u001b[0m\u001b[0marray\u001b[0m\u001b[0;34m(\u001b[0m\u001b[0;34m[\u001b[0m\u001b[0;36m2\u001b[0m\u001b[0;34m,\u001b[0m \u001b[0;36m54\u001b[0m\u001b[0;34m,\u001b[0m \u001b[0;36m13\u001b[0m\u001b[0;34m,\u001b[0m \u001b[0;36m15\u001b[0m\u001b[0;34m]\u001b[0m\u001b[0;34m)\u001b[0m\u001b[0;34m\u001b[0m\u001b[0m\n\u001b[0;32m---> 16\u001b[0;31m     \u001b[0;32massert\u001b[0m \u001b[0mcos_sim\u001b[0m\u001b[0;34m(\u001b[0m\u001b[0mv1\u001b[0m\u001b[0;34m,\u001b[0m \u001b[0mv1\u001b[0m\u001b[0;34m)\u001b[0m \u001b[0;34m==\u001b[0m \u001b[0;36m1.0\u001b[0m\u001b[0;34m\u001b[0m\u001b[0m\n\u001b[0m\u001b[1;32m     17\u001b[0m     \u001b[0;32massert\u001b[0m \u001b[0mcos_sim\u001b[0m\u001b[0;34m(\u001b[0m\u001b[0mv1\u001b[0m\u001b[0;34m,\u001b[0m \u001b[0mv2\u001b[0m\u001b[0;34m)\u001b[0m \u001b[0;34m==\u001b[0m \u001b[0;34m-\u001b[0m\u001b[0;36m1.0\u001b[0m\u001b[0;34m\u001b[0m\u001b[0m\n\u001b[1;32m     18\u001b[0m     \u001b[0;32massert\u001b[0m \u001b[0mcos_sim\u001b[0m\u001b[0;34m(\u001b[0m\u001b[0mv3\u001b[0m\u001b[0;34m,\u001b[0m \u001b[0mv4\u001b[0m\u001b[0;34m)\u001b[0m \u001b[0;34m==\u001b[0m \u001b[0;36m0.0\u001b[0m\u001b[0;34m\u001b[0m\u001b[0m\n",
      "\u001b[0;31mAssertionError\u001b[0m: "
     ]
    }
   ],
   "source": [
    "import numpy as np\n",
    "\n",
    "# TODO: Finish function to make tests pass\n",
    "def cos_sim(v1, v2):\n",
    "    \"Calculate cosine similarity between vector 1 and 2\"\n",
    "    pass\n",
    "\n",
    "\n",
    "def test_cos_sim():\n",
    "    v1 = np.array([1, 2, 3])\n",
    "    v2 = np.array([-1, -2, -3])\n",
    "    v3 = np.array([0, 3])\n",
    "    v4 = np.array([4, 0])\n",
    "    v5 = np.array([3, 45, 7, 2])\n",
    "    v6 = np.array([2, 54, 13, 15])\n",
    "    assert cos_sim(v1, v1) == 1.0\n",
    "    assert cos_sim(v1, v2) == -1.0\n",
    "    assert cos_sim(v3, v4) == 0.0\n",
    "    assert round(cos_sim(v5, v6), 4) == round(0.97228425171235, 4)\n",
    "    return \"tests pass :)\"\n",
    "    \n",
    "print(test_cos_sim())"
   ]
  },
  {
   "cell_type": "markdown",
   "metadata": {},
   "source": [
    "<br>\n",
    "<br>\n",
    "<br>\n",
    "----"
   ]
  },
  {
   "cell_type": "code",
   "execution_count": 8,
   "metadata": {
    "collapsed": false
   },
   "outputs": [
    {
     "name": "stdout",
     "output_type": "stream",
     "text": [
      "tests pass :)\n"
     ]
    }
   ],
   "source": [
    "# A solution - using norms\n",
    "def cos_sim(v1, v2):\n",
    "   \"Calculate cosine similarity between vector 1 and 2\"\n",
    "   return v1.dot(v2) / (np.linalg.norm(v1) * np.linalg.norm(v2))\n",
    "\n",
    "print(test_cos_sim())"
   ]
  },
  {
   "cell_type": "code",
   "execution_count": 9,
   "metadata": {
    "collapsed": false
   },
   "outputs": [
    {
     "name": "stdout",
     "output_type": "stream",
     "text": [
      "tests pass :)\n"
     ]
    }
   ],
   "source": [
    "import math\n",
    "\n",
    "# A solution - pythonic but slow\n",
    "def dot_product(v1, v2):\n",
    "    return sum(map(lambda x: x[0] * x[1], zip(v1, v2)))\n",
    "\n",
    "def cos_sim(v1, v2):\n",
    "    \"Calculate cosine similarity between vector 1 and 2\"\n",
    "    v1_len = math.sqrt(dot_product(v1, v1))\n",
    "    v2_len = math.sqrt(dot_product(v2, v2))\n",
    "    return dot_product(v1, v2) / (v1_len * v2_len)\n",
    "\n",
    "print(test_cos_sim())"
   ]
  },
  {
   "cell_type": "code",
   "execution_count": 10,
   "metadata": {
    "collapsed": false
   },
   "outputs": [
    {
     "name": "stdout",
     "output_type": "stream",
     "text": [
      "tests pass :)\n"
     ]
    }
   ],
   "source": [
    "# A solution - unpythonic but faster\n",
    "def cos_sim(v1, v2):\n",
    "    \"Calculate cosine similarity between vector a and b\"\n",
    "    sumxx, sumxy, sumyy = 0, 0, 0\n",
    "    for i in range(len(v1)):\n",
    "        x = v1[i]; y = v2[i]\n",
    "        sumxx += x*x\n",
    "        sumyy += y*y\n",
    "        sumxy += x*y\n",
    "    return sumxy/math.sqrt(sumxx*sumyy)\n",
    "\n",
    "print(test_cos_sim())"
   ]
  },
  {
   "cell_type": "markdown",
   "metadata": {},
   "source": [
    "Words closest to “Sweden”\n",
    "![](http://deeplearning4j.org/img/sweden_cosine_distance.png)"
   ]
  },
  {
   "cell_type": "markdown",
   "metadata": {},
   "source": [
    "---\n",
    "Extention to analogies, aka linear relationships\n",
    "---\n",
    "\n",
    "### Male-Female\n",
    "![](http://multithreaded.stitchfix.com/assets/images/blog/vectors.gif)\n",
    "\n",
    "[Demo](http://rare-technologies.com/word2vec-tutorial/#app)"
   ]
  },
  {
   "cell_type": "markdown",
   "metadata": {},
   "source": [
    "### Plurals\n",
    "\n",
    "![](images/plurals.png)  \n",
    "\n",
    "Different paths through word2vec space encode different relationships. More on this next time with doc2vec"
   ]
  },
  {
   "cell_type": "markdown",
   "metadata": {},
   "source": [
    "### Verb Tense\n",
    "\n",
    "![](images/verb.png)"
   ]
  },
  {
   "cell_type": "markdown",
   "metadata": {},
   "source": [
    "### Country-Captial\n",
    "![](images/country.png)"
   ]
  },
  {
   "cell_type": "markdown",
   "metadata": {},
   "source": [
    "----\n",
    "Use word2vec to build data products\n",
    "----\n",
    "\n",
    "When I worked at an employment website, I built a recommendation engine for job seekers.  \n",
    "<br>\n",
    "<details><summary>\n",
    "What improved job would you recommend to a Babysitter?\n",
    "</summary>\n",
    "A Nanny. \n",
    "<br>\n",
    "A Nanny is a Babysitter as Senior Engineer is to a Engineer.\n",
    "</details>"
   ]
  },
  {
   "cell_type": "markdown",
   "metadata": {},
   "source": [
    "---\n",
    "Word2vec implemenation\n",
    "---\n",
    "\n",
    "### Code\n",
    "[Google’s word2vec](https://code.google.com/p/word2vec/)  \n",
    "\n",
    "__Hightlights__:\n",
    "\n",
    "- Written in C\n",
    "- Highly optimitized\n",
    "- Light on documentation and transparency \n",
    "\n",
    "[Python’s Gensim package](https://radimrehurek.com/gensim/)  \n",
    "[Google’s TensorFlow](https://www.tensorflow.org/versions/r0.8/tutorials/word2vec/index.html)\n",
    "\n",
    "### Corpus\n",
    "> \"Data is the world's best regularizer\""
   ]
  },
  {
   "cell_type": "markdown",
   "metadata": {},
   "source": [
    "---\n",
    "Check for understanding\n",
    "---\n",
    "\n",
    "<details><summary>\n",
    "How do we evaluate word2vec, especially if it is built on a custom corpus?\n",
    "</summary>\n",
    "Word2Vec is an unsupervised learning algorithm. Thus there’s no good way to objectively evaluate the result. \n",
    "\n",
    "One possible method is to compare analogies performance with pretrained Google vectors.\n",
    "</details>"
   ]
  },
  {
   "cell_type": "markdown",
   "metadata": {},
   "source": [
    "---\n",
    "Summary\n",
    "---\n",
    "\n",
    "- Word2Vec is popular because it is easy to implement and creates a useful abstraction of embeddeding words in a high (but tractable) dimensional space.\n",
    "- Word2Vec is a _relatively_ simple neural net with 1 input layer, 1 hidden layer, and 1 output layer.\n",
    "- There are 2 common ways to represent context: \n",
    "    1. CBOW: given context, predict word\n",
    "    2. skip-gram: given word, predict context\n",
    "- Once trained, any vector operations can be applied to words. The most common operations are: arithmetic, distance, and clustering."
   ]
  },
  {
   "cell_type": "markdown",
   "metadata": {
    "collapsed": true
   },
   "source": [
    "<br>\n",
    "<br>\n",
    "<br>\n",
    "\n",
    "----"
   ]
  },
  {
   "cell_type": "markdown",
   "metadata": {},
   "source": [
    "---\n",
    "Bonus Material\n",
    "----"
   ]
  },
  {
   "cell_type": "markdown",
   "metadata": {},
   "source": [
    "---\n",
    "Speeding up skip-gram\n",
    "---\n",
    "\n",
    "Since Skip-gram is slow (look at the architecture), the smart people at The Google optimitizated within the architecture.\n",
    "\n",
    "> When in doubt, throw a binary tree at it.\n",
    "\n",
    "This particular binary tree is call _Hierarchical Softmax_. \n",
    "\n",
    "### What the hell is softmax?\n",
    "\n",
    "It is a normalized exponential.\n",
    "\n",
    "![](images/softmax_function.png)\n",
    "\n",
    "J is the current class. \n",
    "K is all classes.\n",
    "\n",
    "Generalization of the logistic function to multi-class.\n",
    "\n",
    "Used in various probabilistic multiclass classification methods:\n",
    "\n",
    "- multinomial logistic regression\n",
    "- multiclass linear discriminant analysis\n",
    "- naive Bayes classifiers \n",
    "- artificial neural networks\n",
    "\n",
    "[Source](https://en.wikipedia.org/wiki/Softmax_function)\n",
    "\n",
    "### Okay then ... What is Hierarchical Softmax?\n",
    "\n",
    "![](images/binary_tree.png)\n",
    "\n",
    "Uses a binary tree as a data structure to represent all words in the vocabulary. The V words must be leaf nodes of the tree. For each leaf node, there exists an unique path from the root to the node. This path is used to estimate the probability of the word represented by the leaf node.  \n",
    "\n"
   ]
  },
  {
   "cell_type": "markdown",
   "metadata": {},
   "source": [
    "<br>\n",
    "<br> \n",
    "<br>\n",
    "\n",
    "----\n",
    "\n"
   ]
  }
 ],
 "metadata": {
  "kernelspec": {
   "display_name": "Python 3",
   "language": "python",
   "name": "python3"
  },
  "language_info": {
   "codemirror_mode": {
    "name": "ipython",
    "version": 3
   },
   "file_extension": ".py",
   "mimetype": "text/x-python",
   "name": "python",
   "nbconvert_exporter": "python",
   "pygments_lexer": "ipython3",
   "version": "3.5.1"
  }
 },
 "nbformat": 4,
 "nbformat_minor": 0
}
