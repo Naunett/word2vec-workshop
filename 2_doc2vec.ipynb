{
 "cells": [
  {
   "cell_type": "markdown",
   "metadata": {},
   "source": [
    "----\n",
    "doc2vec\n",
    "===="
   ]
  },
  {
   "cell_type": "markdown",
   "metadata": {},
   "source": [
    "<img src=\"https://s3.amazonaws.com/instagram-static/engineering-blog/emoji-hashtags/tsne_map_tight.png\" style=\"width: 400px;\"/>\n",
    "\n",
    "[Image](images/https://s3.amazonaws.com/instagram-static/engineering-blog/emoji-hashtags/tsne_map_tight.png)  \n",
    "[Source](http://instagram-engineering.tumblr.com/post/117889701472/emojineering-part-1-machine-learning-for-emoji)"
   ]
  },
  {
   "cell_type": "markdown",
   "metadata": {},
   "source": [
    "----\n",
    "By the end of this session, you should be able to:\n",
    "----\n",
    "\n",
    "- Able to apply word2vec beyond just words\n",
    "- Understand how t-sne is the preferred algorithm for high dimensional visualization\n",
    "- Describe common extensions to word2vec:\n",
    "    - Machine translation\n",
    "    - Dependency parsing extension\n",
    "    - doc2vec, how word2vec can be extended to paragraph and documents\n",
    "    - Cutting-edge algorithms of Word Mover Distance and Thought Vectors"
   ]
  },
  {
   "cell_type": "markdown",
   "metadata": {},
   "source": [
    "---\n",
    "word2vec: Check for understanding\n",
    "---\n",
    "\n",
    "<details><summary>\n",
    "What is goal of word2vec in Plain English?\n",
    "</summary>\n",
    "Create a dense vector representation of words that models semantic meaning based on context\n",
    "</details>\n",
    "\n",
    "<br>\n",
    "\n",
    "<details><summary>\n",
    "Why are neural networks powerful in machine learning?\n",
    "</summary>\n",
    "Capable of learning complex, arbitrary, non-linear relationships.\n",
    "</details>\n",
    "\n",
    "<br>\n",
    "\n",
    "<details><summary>\n",
    "What are the inputs and outputs of word2vec neural network during training?\n",
    "</summary>\n",
    "word and context\n",
    "</details>\n",
    "\n",
    "<br>\n",
    "\n",
    "<details><summary>\n",
    "What math operations are most common for word2vec embedding?\n",
    "</summary>\n",
    "Arithmetic, distance, and clustering. By any vector operations are meaningful\n",
    "</details>\n",
    "\n",
    "<br>\n",
    "\n",
    "<details><summary>\n",
    "Every ML algorithm has to solve 3 basic problems:  \n",
    "<br>\n",
    "1. Representation  \n",
    "2. Evaluation  \n",
    "3. Optimization  \n",
    "<br>\n",
    "How does word2vec solve each of these?\n",
    "</summary>\n",
    "1. (dense vector) Representation of word semantics (key breakthrough)\n",
    "2. Evaluation is through word context (thus needs lots of words)    \n",
    "3. Optimization is backpropagation (aka, back prop)  \n",
    "</details>"
   ]
  },
  {
   "cell_type": "markdown",
   "metadata": {
    "collapsed": true
   },
   "source": [
    "---\n",
    "t-Distributed Stochastic Neighbor Embedding (t-SNE) \n",
    "---\n",
    "\n",
    "<img src=\"http://www.trivial.io/content/images/2015/12/tsne-8.png\" style=\"width: 400px;\"/>\n",
    "\n",
    "A tool to visualize high-dimensional data. \n",
    "\n",
    "Embedding high-dimensional data into a space of two or three dimensions, which can then be visualized in a scatter plot. Specifically, it models each high-dimensional object by a two- or three-dimensional point in such a way that similar objects are modeled by nearby points and dissimilar objects are modeled by distant points.\n",
    "\n",
    "It converts similarities between data points to joint probabilities and tries to minimize the Kullback-Leibler divergence between the joint probabilities of the low-dimensional embedding and the high-dimensional data. t-SNE has a cost function that is not convex, i.e. with different initializations we can get different results.\n",
    "\n",
    "[demo 1](https://github.com/oreillymedia/t-SNE-tutorial)  \n",
    "[demo 2](http://cs.stanford.edu/people/karpathy/tsnejs/)\n",
    "\n",
    "The t-SNE algorithms comprises two main stages. \n",
    "\n",
    "1. t-SNE constructs a probability distribution over pairs of high-dimensional objects in such a way that similar objects have a high probability of being picked, whilst dissimilar points have an infinitesimal probability of being picked.\n",
    "\n",
    "2. t-SNE defines a similar probability distribution over the points in the low-dimensional map, and it minimizes the Kullback–Leibler divergence between the two distributions with respect to the locations of the points in the map. Note that whilst the original algorithm uses the Euclidean distance between objects as the base of its similarity metric, this should be changed as appropriate.\n",
    "\n",
    "[Source](https://en.wikipedia.org/wiki/T-distributed_stochastic_neighbor_embedding)\n",
    "\n",
    "[t-sne code](https://lvdmaaten.github.io/tsne/) \n",
    "\n",
    "[Implementation in python](http://scikit-learn.org/stable/modules/generated/sklearn.manifold.TSNE.html)"
   ]
  },
  {
   "cell_type": "markdown",
   "metadata": {},
   "source": [
    "---\n",
    "Machine Translation\n",
    "---\n",
    "\n",
    "![](images/machine_translation.png)\n",
    "\n",
    "Language translations are rotations and scalings of the vector space.  "
   ]
  },
  {
   "cell_type": "markdown",
   "metadata": {},
   "source": [
    "---\n",
    "How are Machine Translations learned?\n",
    "----\n",
    "\n",
    "The transform matrix can be learned by bootstrapping from a small sample (manually labeled), then extend to entire language.\n",
    "\n",
    "Steps:\n",
    "\n",
    "1. Create a word embedding in both languages\n",
    "2. Manually specify pairs (typically, simple concrete nouns)\n",
    "3. Find the translation matrix\n",
    "4. Apply translation matrix across entire language"
   ]
  },
  {
   "cell_type": "markdown",
   "metadata": {
    "collapsed": true
   },
   "source": [
    "---\n",
    "Dependency-Based Word Embeddings\n",
    "---\n",
    "\n",
    "An alternative to the bag-of-words approach is to derive contexts based on the syntactic relations the word participates in.\n",
    "\n",
    "![](images/parse.png)\n",
    "\n",
    "Extend beyond skip-gram window, \"weighted\" by syntax (not just token distance).\n",
    "\n",
    "**Results**\n",
    "\n",
    "![](images/dependency_results.png)\n",
    "\n",
    "Look at \"florida\" row. How are Bag-of-words (BoW) and depdency (deps) different? \n",
    "\n",
    "BOW generates counties or cities in Florida (meronyms: part of the whole)\n",
    "Dependcy generates other states \"brothers and sisters\" (cohyponyms: a word that shares hyoponym, belong to the same hypernym)\n",
    "\n",
    "[Source](http://www.aclweb.org/anthology/P14-2050.pdf)"
   ]
  },
  {
   "cell_type": "markdown",
   "metadata": {},
   "source": [
    "---\n",
    "Doc2Vec, the most powerful extension of word2vec\n",
    "---"
   ]
  },
  {
   "cell_type": "markdown",
   "metadata": {},
   "source": [
    "![](http://img5.picload.org/image/paagccr/doc2vec.png)"
   ]
  },
  {
   "cell_type": "markdown",
   "metadata": {},
   "source": [
    "Doc2vec (aka paragraph2vec or sentence embeddings) modifies the word2vec algorithm to larger blocks of text, such as sentences, paragraphs or entire documents. \n",
    "\n",
    "![](images/overview_word.png)\n",
    "\n",
    "![](images/overview_paragraph.png)\n",
    "\n",
    "Every paragraph is mapped to a unique vector, represented by a column in matrix D and every word is also mapped to a unique vector, represented by a column in matrix W . \n",
    "The paragraph vector and word vectors are averaged or concatenated to predict the next word in a context. \n",
    "\n",
    "Each additional context does not have be a fixed length (because it is vectorized and projected into the same space).\n",
    "\n",
    "Additional parameters but the updates are sparse thus still efficient."
   ]
  },
  {
   "cell_type": "markdown",
   "metadata": {},
   "source": [
    "----\n",
    "doc2vec Example: Descri.beer\n",
    "---\n",
    "\n",
    "<img src=\"https://timebusinessblog.files.wordpress.com/2013/03/85632599-e1364519588629.jpg?w=360&h=240&crop=1\" style=\"width: 400px;\"/>\n",
    "\n",
    "How do to make sense of 1.6M beer reviews?\n",
    "\n",
    "![](images/beer_space.jpg)\n",
    "\n",
    "[Source](http://www.slideshare.net/BenEverson/describeer-demo)"
   ]
  },
  {
   "cell_type": "code",
   "execution_count": 1,
   "metadata": {
    "collapsed": false
   },
   "outputs": [
    {
     "data": {
      "text/html": [
       "\n",
       "        <iframe\n",
       "            width=\"800\"\n",
       "            height=\"600\"\n",
       "            src=\"http://descri.beer/\"\n",
       "            frameborder=\"0\"\n",
       "            allowfullscreen\n",
       "        ></iframe>\n",
       "        "
      ],
      "text/plain": [
       "<IPython.lib.display.IFrame at 0x10449d908>"
      ]
     },
     "execution_count": 1,
     "metadata": {},
     "output_type": "execute_result"
    }
   ],
   "source": [
    "from IPython.display import IFrame\n",
    "\n",
    "IFrame(\"http://descri.beer/\",\n",
    "      width=800,\n",
    "      height=600)"
   ]
  },
  {
   "cell_type": "markdown",
   "metadata": {},
   "source": [
    "---\n",
    "Concept level document similarity\n",
    "---\n",
    "\n",
    "> The Sicilian gelato was extremely rich.\n",
    "\n",
    "vs.\n",
    "\n",
    "> The Italian ice-cream was very velvety.\n",
    "\n",
    "The statements reference the __same__ idea but share __no__ words."
   ]
  },
  {
   "cell_type": "markdown",
   "metadata": {},
   "source": [
    "----\n",
    "Word Mover’s Distance (WMD)\n",
    "----\n",
    "\n",
    "![](images/wmd_illustration_1.png)\n",
    "\n",
    "Represent text documents as a weighted point cloud of embedded words. \n",
    "\n",
    "The distance between two text documents A and B is the minimum cumulative distance that words from document A need to travel to match exactly the point cloud of document B."
   ]
  },
  {
   "cell_type": "markdown",
   "metadata": {},
   "source": [
    "----\n",
    "Earth mover’s distance metric (EMD)\n",
    "-----\n",
    "\n",
    "Word Mover’s Distance (WMD) is a special case of the [earth mover’s distance metric (EMD)](https://en.wikipedia.org/wiki/Earth_mover%27s_distance)\n",
    "\n",
    "EMD is a method to evaluate dissimilarity between two multi-dimensional distributions in some feature space where a distance measure between single features, which we call the ground distance is given. The EMD 'lifts' this distance from individual features to full distributions.\n",
    "\n",
    "[Deep dive on EMD](http://homepages.inf.ed.ac.uk/rbf/CVonline/LOCAL_COPIES/RUBNER/emd.htm)"
   ]
  },
  {
   "cell_type": "markdown",
   "metadata": {},
   "source": [
    "This is transform a NLP problem a logistical-style problem that be solved with linear programing.\n",
    "\n",
    "![](images/WMD_problem_statement.png)\n",
    "\n",
    "![](images/WMD_linear.png)"
   ]
  },
  {
   "cell_type": "markdown",
   "metadata": {},
   "source": [
    "---\n",
    "Example\n",
    "----\n",
    "\n",
    "![](images/WMD_worked_example.png)\n",
    "\n",
    "State-of-the-art kNN classification accuracy but slowest metric to compute.\n",
    "\n",
    "[Source: From Word Embeddings To Document Distances](http://jmlr.org/proceedings/papers/v37/kusnerb15.pdf)\n",
    "\n",
    "[Application to Data Science](http://tech.opentable.com/2015/08/11/navigating-themes-in-restaurant-reviews-with-word-movers-distance/)"
   ]
  },
  {
   "cell_type": "markdown",
   "metadata": {},
   "source": [
    "---\n",
    "Thought Vectors\n",
    "---\n",
    "\n",
    "<img src=\"https://cdn-images-1.medium.com/max/2000/1*KYLrhDHqAAdQaJiN1G4ytA.jpeg\" style=\"width: 400px;\"/>\n",
    "\n",
    "Geoffrey Hinton's, from Google, \"Top Secret\" new algorithm.\n",
    "\n",
    "> When Google farts 💨, the rest of the world 💩\n",
    "\n",
    "Instead of embedding words or documents in vector space, embed thoughts in vector space. Their features will represent how each thought relates to other thoughts. \n",
    "\n",
    "It hasn't been released so it is mostly speculation. Keep your eye out for it.\n",
    "\n",
    "[Additional general reading](http://deeplearning4j.org/thoughtvectors.html)<br>\n",
    "[Skip-Thought Vectors paper](https://papers.nips.cc/paper/5950-skip-thought-vectors.pdf)"
   ]
  },
  {
   "cell_type": "markdown",
   "metadata": {},
   "source": [
    "---\n",
    "Summary\n",
    "---\n",
    "- Given the properties of word2vec (e.g., large corpus input, straightforward training, and text vector output), it can be applied to a variety of problems.\n",
    "- Word2vec is another perspective on Machine Translation, rotation and translation of embedded space.\n",
    "- Other semantic meanings can be captured by using dependency parsing as context.\n",
    "- Longer pieces of text can also be embedded into the same space as words (i.e., doc2vec)."
   ]
  },
  {
   "cell_type": "markdown",
   "metadata": {},
   "source": [
    "<br>\n",
    "<br> \n",
    "<br>\n",
    "\n",
    "----"
   ]
  },
  {
   "cell_type": "markdown",
   "metadata": {},
   "source": [
    "---\n",
    "Bonus Materials\n",
    "----"
   ]
  },
  {
   "cell_type": "markdown",
   "metadata": {},
   "source": [
    "---\n",
    "2 architectures for doc2vec\n",
    "---\n",
    "\n",
    "1. Distributed Memory (DM)\n",
    "2. Distributed Bag of Words (DBOW)\n",
    "\n",
    "[Source: Distributed Representations of Sentences and Documents](http://cs.stanford.edu/~quocle/paragraph_vector.pdf)"
   ]
  },
  {
   "cell_type": "markdown",
   "metadata": {},
   "source": [
    "### Distributed Memory (DM)\n",
    "\n",
    "__Highlights__:\n",
    "\n",
    "- Assign and randomly initialize paragraph vector for each doc\n",
    "- Predict next word using context words and paragraph vector\n",
    "- Slide context window across doc but keep paragraph vector fixed (hence: Distrubted Memory)\n",
    "- Update weights via SGD and backprop"
   ]
  },
  {
   "cell_type": "markdown",
   "metadata": {},
   "source": [
    "### Distributed Bag of Words (DBOW)\n",
    "\n",
    "__Highlights__:\n",
    "\n",
    "- ONLY use paragraph vectors (no word vectors)\n",
    "- Take a window of words in a paragraph and randomly sample which ones to predict using paragraph vector\n",
    "- Simpler, more memory efficient\n",
    "\n",
    "![](images/DBOW.png)"
   ]
  },
  {
   "cell_type": "markdown",
   "metadata": {
    "collapsed": true
   },
   "source": [
    "<br>\n",
    "<br> \n",
    "<br>\n",
    "\n",
    "----"
   ]
  }
 ],
 "metadata": {
  "anaconda-cloud": {},
  "celltoolbar": "Slideshow",
  "kernelspec": {
   "display_name": "Python 3",
   "language": "python",
   "name": "python3"
  },
  "language_info": {
   "codemirror_mode": {
    "name": "ipython",
    "version": 3
   },
   "file_extension": ".py",
   "mimetype": "text/x-python",
   "name": "python",
   "nbconvert_exporter": "python",
   "pygments_lexer": "ipython3",
   "version": "3.5.2"
  }
 },
 "nbformat": 4,
 "nbformat_minor": 0
}
